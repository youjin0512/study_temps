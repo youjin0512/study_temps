{
  "nbformat": 4,
  "nbformat_minor": 0,
  "metadata": {
    "colab": {
      "provenance": [],
      "authorship_tag": "ABX9TyOs+YXsAzF9z7CkMf3hllUg",
      "include_colab_link": true
    },
    "kernelspec": {
      "name": "python3",
      "display_name": "Python 3"
    },
    "language_info": {
      "name": "python"
    }
  },
  "cells": [
    {
      "cell_type": "markdown",
      "metadata": {
        "id": "view-in-github",
        "colab_type": "text"
      },
      "source": [
        "<a href=\"https://colab.research.google.com/github/youjin0512/study_temps/blob/main/initial_youjinkim.ipynb\" target=\"_parent\"><img src=\"https://colab.research.google.com/assets/colab-badge.svg\" alt=\"Open In Colab\"/></a>"
      ]
    },
    {
      "cell_type": "code",
      "execution_count": 1,
      "metadata": {
        "colab": {
          "base_uri": "https://localhost:8080/"
        },
        "id": "UU6hr2eRU92j",
        "outputId": "cc7afb36-bb11-4f45-dbd8-30c2a5a58fb3"
      },
      "outputs": [
        {
          "output_type": "stream",
          "name": "stdout",
          "text": [
            "github\n"
          ]
        }
      ],
      "source": [
        "print (\"github\")"
      ]
    },
    {
      "cell_type": "code",
      "source": [
        "#여긴 화면 출력 명령어\n",
        "print(\"안녕하세요. 첫 개발 시작입니다.\")  #안녕. 출력"
      ],
      "metadata": {
        "colab": {
          "base_uri": "https://localhost:8080/"
        },
        "id": "cO6f0JxDVhYK",
        "outputId": "f6846c0f-2f15-460d-c041-f875773d6851"
      },
      "execution_count": 3,
      "outputs": [
        {
          "output_type": "stream",
          "name": "stdout",
          "text": [
            "안녕하세요. 첫 개발 시작입니다.\n"
          ]
        }
      ]
    },
    {
      "cell_type": "code",
      "source": [
        "#quest 1\n",
        "print(\"김유진은 데이터 엔지니어 양성과정을 듣습니다.\")"
      ],
      "metadata": {
        "colab": {
          "base_uri": "https://localhost:8080/"
        },
        "id": "r-U6QAP2WQbC",
        "outputId": "1a3dd261-eab6-4938-ff64-177a17de2698"
      },
      "execution_count": 4,
      "outputs": [
        {
          "output_type": "stream",
          "name": "stdout",
          "text": [
            "김유진은 데이터 엔지니어 양성과정을 듣습니다.\n"
          ]
        }
      ]
    },
    {
      "cell_type": "code",
      "source": [
        "#숫자화된 문자 출력 with 상수\n",
        "print(\"4+5\")"
      ],
      "metadata": {
        "colab": {
          "base_uri": "https://localhost:8080/"
        },
        "id": "Y0_ls0ylWZle",
        "outputId": "26c9f198-61d3-4e40-efd5-aeb10f0330a5"
      },
      "execution_count": 6,
      "outputs": [
        {
          "output_type": "stream",
          "name": "stdout",
          "text": [
            "4+5\n"
          ]
        }
      ]
    },
    {
      "cell_type": "code",
      "source": [
        "#숫자출력 with 상수\n",
        "print(4+5)"
      ],
      "metadata": {
        "colab": {
          "base_uri": "https://localhost:8080/"
        },
        "id": "VhGIUyPuWeDS",
        "outputId": "2bd5f85b-3538-4377-a043-71ff6ba91831"
      },
      "execution_count": 7,
      "outputs": [
        {
          "output_type": "stream",
          "name": "stdout",
          "text": [
            "9\n"
          ]
        }
      ]
    },
    {
      "cell_type": "code",
      "source": [
        "#숫자화된 문자 출력 with 변수\n",
        "numberwithval = \"4+5\"\n",
        "print(numberwithval)"
      ],
      "metadata": {
        "colab": {
          "base_uri": "https://localhost:8080/"
        },
        "id": "Sxx4f_Z_Wo0l",
        "outputId": "e870b107-5d18-49d3-ff41-9e8289fd16ca"
      },
      "execution_count": 8,
      "outputs": [
        {
          "output_type": "stream",
          "name": "stdout",
          "text": [
            "4+5\n"
          ]
        }
      ]
    },
    {
      "cell_type": "code",
      "source": [
        "numberwithvals = 4+5\n",
        "print(numberwithvals)"
      ],
      "metadata": {
        "colab": {
          "base_uri": "https://localhost:8080/"
        },
        "id": "YFt2m3oaXDy-",
        "outputId": "85d700c5-96ab-4ecc-bf54-2fb1b2935d98"
      },
      "execution_count": 9,
      "outputs": [
        {
          "output_type": "stream",
          "name": "stdout",
          "text": [
            "9\n"
          ]
        }
      ]
    },
    {
      "cell_type": "code",
      "source": [
        "#quest2\n",
        "numberwith = \"40+50\"\n",
        "print(numberwith)"
      ],
      "metadata": {
        "colab": {
          "base_uri": "https://localhost:8080/"
        },
        "id": "vlnJ750mXrct",
        "outputId": "dae3e7de-31a1-4702-c3fc-9ee027e84bfe"
      },
      "execution_count": 10,
      "outputs": [
        {
          "output_type": "stream",
          "name": "stdout",
          "text": [
            "40+50\n"
          ]
        }
      ]
    },
    {
      "cell_type": "code",
      "source": [
        "#숫자화된 변수 출력 with 변수\n",
        "numbers = numberwithval + \"=9\"\n",
        "print(numbers)"
      ],
      "metadata": {
        "colab": {
          "base_uri": "https://localhost:8080/"
        },
        "id": "6V0nAZt7X5FE",
        "outputId": "9212d071-ca08-4e14-d1e6-c0fa24bf0b37"
      },
      "execution_count": 15,
      "outputs": [
        {
          "output_type": "stream",
          "name": "stdout",
          "text": [
            "=9=9\n"
          ]
        }
      ]
    },
    {
      "cell_type": "code",
      "source": [
        "#숫자화된 변수 출력 with 변수\n",
        "numbers = numberwithval + \"=9\"\n",
        "print(numbers)"
      ],
      "metadata": {
        "colab": {
          "base_uri": "https://localhost:8080/"
        },
        "id": "VPWNKb4uZBN-",
        "outputId": "590e540b-8ce3-4af8-bbc3-b68557b731e1"
      },
      "execution_count": 19,
      "outputs": [
        {
          "output_type": "stream",
          "name": "stdout",
          "text": [
            "=9=9\n"
          ]
        }
      ]
    },
    {
      "cell_type": "code",
      "source": [],
      "metadata": {
        "id": "XLScR6E6ZMZC"
      },
      "execution_count": null,
      "outputs": []
    }
  ]
}