{
  "nbformat": 4,
  "nbformat_minor": 0,
  "metadata": {
    "colab": {
      "provenance": [],
      "authorship_tag": "ABX9TyNDejlRfn6HgSvkZ8tknO67",
      "include_colab_link": true
    },
    "kernelspec": {
      "name": "python3",
      "display_name": "Python 3"
    },
    "language_info": {
      "name": "python"
    }
  },
  "cells": [
    {
      "cell_type": "markdown",
      "metadata": {
        "id": "view-in-github",
        "colab_type": "text"
      },
      "source": [
        "<a href=\"https://colab.research.google.com/github/youjin0512/study_temps/blob/main/initial_youjinkim.ipynb\" target=\"_parent\"><img src=\"https://colab.research.google.com/assets/colab-badge.svg\" alt=\"Open In Colab\"/></a>"
      ]
    },
    {
      "cell_type": "code",
      "execution_count": 1,
      "metadata": {
        "colab": {
          "base_uri": "https://localhost:8080/"
        },
        "id": "d54metdMwYOO",
        "outputId": "2e678157-7090-4842-e78a-ac6b8a7f4418"
      },
      "outputs": [
        {
          "output_type": "stream",
          "name": "stdout",
          "text": [
            "28\n",
            "9\n"
          ]
        }
      ],
      "source": [
        "# 변수 선언 후 출력하기\n",
        "\n",
        "a = 2\n",
        "b = 7\n",
        "c = 3\n",
        "\n",
        "input_first = a * a * b\n",
        "input_second = c * c\n",
        "\n",
        "st_first = str(input_first)\n",
        "st_second = str(input_second)\n",
        "\n",
        "print(st_first)\n",
        "print(st_second)"
      ]
    },
    {
      "cell_type": "code",
      "source": [
        "# quest\n",
        "input_first = 4\n",
        "input_second = 7\n",
        "result = str(input_first * input_second) + \"을 계산했음\"\n",
        "print(result)"
      ],
      "metadata": {
        "colab": {
          "base_uri": "https://localhost:8080/"
        },
        "id": "KZYiCP75wZJU",
        "outputId": "36c6433a-7bf4-4f9d-ac3a-f9cf0d7f258e"
      },
      "execution_count": 2,
      "outputs": [
        {
          "output_type": "stream",
          "name": "stdout",
          "text": [
            "28을 계산했음\n"
          ]
        }
      ]
    },
    {
      "cell_type": "code",
      "source": [
        "# quest 2\n",
        "input_first = 9\n",
        "input_second = 1\n",
        "result = str(input_first * input_second) + \"을 계산했음\"\n",
        "print(result)"
      ],
      "metadata": {
        "colab": {
          "base_uri": "https://localhost:8080/"
        },
        "id": "HW28gJ3Hwal9",
        "outputId": "e244a992-990d-4360-b859-872c6bed1c49"
      },
      "execution_count": 3,
      "outputs": [
        {
          "output_type": "stream",
          "name": "stdout",
          "text": [
            "9을 계산했음\n"
          ]
        }
      ]
    },
    {
      "cell_type": "code",
      "source": [
        "# quest 3\n",
        "# initial_quest_[name].ipynd\n",
        "# \"28을 곱셈했음\" 출력\n",
        "# \"9을 곱셈했음\" 출력\n",
        "# 변수 이름 : input_first, input_second\n",
        "\n",
        "input = \"28을 곱셈했음\"\n",
        "result = input\n",
        "print(result)\n",
        "\n",
        "input = \"9을 곱셈했음\"\n",
        "result = input\n",
        "print(result)"
      ],
      "metadata": {
        "colab": {
          "base_uri": "https://localhost:8080/"
        },
        "id": "2KNZ5c6owcal",
        "outputId": "10b0dad1-4452-4162-8e73-3838fad0ceb5"
      },
      "execution_count": 4,
      "outputs": [
        {
          "output_type": "stream",
          "name": "stdout",
          "text": [
            "28을 곱셈했음\n",
            "9을 곱셈했음\n"
          ]
        }
      ]
    },
    {
      "cell_type": "code",
      "source": [],
      "metadata": {
        "id": "uRSP3FwYwd7k"
      },
      "execution_count": null,
      "outputs": []
    }
  ]
}